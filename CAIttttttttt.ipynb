{
  "nbformat": 4,
  "nbformat_minor": 0,
  "metadata": {
    "colab": {
      "provenance": []
    },
    "kernelspec": {
      "name": "python3",
      "display_name": "Python 3"
    },
    "language_info": {
      "name": "python"
    }
  },
  "cells": [
    {
      "cell_type": "code",
      "execution_count": 5,
      "metadata": {
        "colab": {
          "base_uri": "https://localhost:8080/"
        },
        "id": "gyr4H1MQSK3G",
        "outputId": "eb3716c7-21ba-43a4-dabb-b8f2b7cdeb9b"
      },
      "outputs": [
        {
          "output_type": "execute_result",
          "data": {
            "text/plain": [
              "12"
            ]
          },
          "metadata": {},
          "execution_count": 5
        }
      ],
      "source": [
        "10+2"
      ]
    },
    {
      "cell_type": "markdown",
      "source": [
        "110+33\n"
      ],
      "metadata": {
        "id": "96OHk3K9TmIv"
      }
    },
    {
      "cell_type": "code",
      "source": [
        "9389083098423+2333"
      ],
      "metadata": {
        "colab": {
          "base_uri": "https://localhost:8080/"
        },
        "id": "7m0maI5vTc7v",
        "outputId": "88305732-a6da-4b99-f3f9-fd6d9932221a"
      },
      "execution_count": 6,
      "outputs": [
        {
          "output_type": "execute_result",
          "data": {
            "text/plain": [
              "9389083100756"
            ]
          },
          "metadata": {},
          "execution_count": 6
        }
      ]
    },
    {
      "cell_type": "code",
      "source": [],
      "metadata": {
        "id": "aF8K3Y3-T4Vz"
      },
      "execution_count": null,
      "outputs": []
    },
    {
      "cell_type": "markdown",
      "source": [
        "sin45"
      ],
      "metadata": {
        "id": "_aMwhE5KUBcd"
      }
    },
    {
      "cell_type": "markdown",
      "source": [
        "![OIP.jpg](data:image/jpeg;base64,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)"
      ],
      "metadata": {
        "id": "APIMhr30T4yj"
      }
    },
    {
      "cell_type": "code",
      "source": [
        "1 match,sin45"
      ],
      "metadata": {
        "colab": {
          "base_uri": "https://localhost:8080/",
          "height": 106
        },
        "id": "jcurGauCTzjs",
        "outputId": "cdb2d2b1-b801-487c-d4c9-880e23788c31"
      },
      "execution_count": 7,
      "outputs": [
        {
          "output_type": "error",
          "ename": "SyntaxError",
          "evalue": "invalid syntax (ipython-input-3927860450.py, line 1)",
          "traceback": [
            "\u001b[0;36m  File \u001b[0;32m\"/tmp/ipython-input-3927860450.py\"\u001b[0;36m, line \u001b[0;32m1\u001b[0m\n\u001b[0;31m    1 match,sin45\u001b[0m\n\u001b[0m      ^\u001b[0m\n\u001b[0;31mSyntaxError\u001b[0m\u001b[0;31m:\u001b[0m invalid syntax\n"
          ]
        }
      ]
    },
    {
      "cell_type": "markdown",
      "source": [],
      "metadata": {
        "id": "CZpW3UzwUVN1"
      }
    },
    {
      "cell_type": "code",
      "source": [
        ""
      ],
      "metadata": {
        "colab": {
          "base_uri": "https://localhost:8080/",
          "height": 106
        },
        "id": "yQlWXpLtTvBS",
        "outputId": "e564a416-8b7d-412a-ac5a-aa69e988fa18"
      },
      "execution_count": 8,
      "outputs": [
        {
          "output_type": "error",
          "ename": "SyntaxError",
          "evalue": "invalid syntax (ipython-input-3897410707.py, line 1)",
          "traceback": [
            "\u001b[0;36m  File \u001b[0;32m\"/tmp/ipython-input-3897410707.py\"\u001b[0;36m, line \u001b[0;32m1\u001b[0m\n\u001b[0;31m    1 import math\u001b[0m\n\u001b[0m      ^\u001b[0m\n\u001b[0;31mSyntaxError\u001b[0m\u001b[0;31m:\u001b[0m invalid syntax\n"
          ]
        }
      ]
    },
    {
      "cell_type": "markdown",
      "source": [],
      "metadata": {
        "id": "rG_4X43cUiSt"
      }
    },
    {
      "cell_type": "markdown",
      "source": [],
      "metadata": {
        "id": "4hTTEH9yUhB3"
      }
    },
    {
      "cell_type": "code",
      "source": [
        "import math\n"
      ],
      "metadata": {
        "id": "e9lZB8dOTdA0"
      },
      "execution_count": 31,
      "outputs": []
    },
    {
      "cell_type": "code",
      "source": [
        "math.sin(45)"
      ],
      "metadata": {
        "colab": {
          "base_uri": "https://localhost:8080/"
        },
        "id": "8jyIDfniXkWQ",
        "outputId": "b1887bf5-c4e5-4799-e3e6-521a904da3c2"
      },
      "execution_count": 32,
      "outputs": [
        {
          "output_type": "execute_result",
          "data": {
            "text/plain": [
              "0.8509035245341184"
            ]
          },
          "metadata": {},
          "execution_count": 32
        }
      ]
    },
    {
      "cell_type": "code",
      "source": [
        "math.cos(90)"
      ],
      "metadata": {
        "colab": {
          "base_uri": "https://localhost:8080/"
        },
        "id": "U2w8XBGTWl4G",
        "outputId": "91efd2c6-0b64-43d7-b737-2716ed9a0eaa"
      },
      "execution_count": 33,
      "outputs": [
        {
          "output_type": "execute_result",
          "data": {
            "text/plain": [
              "-0.4480736161291701"
            ]
          },
          "metadata": {},
          "execution_count": 33
        }
      ]
    },
    {
      "cell_type": "code",
      "source": [
        "start_date=\"2025-05-17\"\n",
        "end_date=\"2025-10-25\""
      ],
      "metadata": {
        "id": "JrtR07Q7YXQQ"
      },
      "execution_count": 71,
      "outputs": []
    },
    {
      "cell_type": "markdown",
      "source": [],
      "metadata": {
        "id": "eIm8OkiJZ_K_"
      }
    },
    {
      "cell_type": "code",
      "source": [],
      "metadata": {
        "id": "MTcMYmFvZ-_j"
      },
      "execution_count": null,
      "outputs": []
    },
    {
      "cell_type": "code",
      "source": [
        "import yfinance as yf\n",
        "import numpy as np\n",
        "import pandas as pd\n",
        "import matplotlib.pyplot as plt\n",
        "import seaborn as sns"
      ],
      "metadata": {
        "id": "BsIsaKv1ZN2K"
      },
      "execution_count": 93,
      "outputs": []
    },
    {
      "cell_type": "code",
      "source": [],
      "metadata": {
        "id": "v6-SlO1HenRs"
      },
      "execution_count": null,
      "outputs": []
    },
    {
      "cell_type": "code",
      "source": [
        "AAPL=yf.download(\"AAPL\",start_date, end_date)"
      ],
      "metadata": {
        "colab": {
          "base_uri": "https://localhost:8080/"
        },
        "id": "jPKXrHqfccF2",
        "outputId": "19d9313e-1e03-4ecd-80c8-5e3aa6a072e0"
      },
      "execution_count": 73,
      "outputs": [
        {
          "output_type": "stream",
          "name": "stderr",
          "text": [
            "/tmp/ipython-input-1894765054.py:1: FutureWarning: YF.download() has changed argument auto_adjust default to True\n",
            "  AAPL=yf.download(\"AAPL\",start_date, end_date)\n",
            "[*********************100%***********************]  1 of 1 completed\n"
          ]
        }
      ]
    },
    {
      "cell_type": "code",
      "source": [
        " AAPL.head()"
      ],
      "metadata": {
        "colab": {
          "base_uri": "https://localhost:8080/",
          "height": 269
        },
        "id": "jzqzzFnVeny8",
        "outputId": "d206b2f2-6962-4f1d-ee62-b23d4c4145b4"
      },
      "execution_count": 77,
      "outputs": [
        {
          "output_type": "execute_result",
          "data": {
            "text/plain": [
              "Price            Close        High         Low        Open    Volume\n",
              "Ticker            AAPL        AAPL        AAPL        AAPL      AAPL\n",
              "Date                                                                \n",
              "2025-05-19  208.543320  209.242523  204.028439  207.674311  46140500\n",
              "2025-05-20  206.625504  208.233679  204.797576  207.434583  42496600\n",
              "2025-05-21  201.860901  206.805286  200.482476  204.937411  59211800\n",
              "2025-05-22  201.131729  202.520153  199.473607  200.482472  46742400\n",
              "2025-05-23  195.048645  197.475883  193.240699  193.450453  78432900"
            ],
            "text/html": [
              "\n",
              "  <div id=\"df-74e9ce8a-5348-49c1-b322-c6346e5c5e86\" class=\"colab-df-container\">\n",
              "    <div>\n",
              "<style scoped>\n",
              "    .dataframe tbody tr th:only-of-type {\n",
              "        vertical-align: middle;\n",
              "    }\n",
              "\n",
              "    .dataframe tbody tr th {\n",
              "        vertical-align: top;\n",
              "    }\n",
              "\n",
              "    .dataframe thead tr th {\n",
              "        text-align: left;\n",
              "    }\n",
              "\n",
              "    .dataframe thead tr:last-of-type th {\n",
              "        text-align: right;\n",
              "    }\n",
              "</style>\n",
              "<table border=\"1\" class=\"dataframe\">\n",
              "  <thead>\n",
              "    <tr>\n",
              "      <th>Price</th>\n",
              "      <th>Close</th>\n",
              "      <th>High</th>\n",
              "      <th>Low</th>\n",
              "      <th>Open</th>\n",
              "      <th>Volume</th>\n",
              "    </tr>\n",
              "    <tr>\n",
              "      <th>Ticker</th>\n",
              "      <th>AAPL</th>\n",
              "      <th>AAPL</th>\n",
              "      <th>AAPL</th>\n",
              "      <th>AAPL</th>\n",
              "      <th>AAPL</th>\n",
              "    </tr>\n",
              "    <tr>\n",
              "      <th>Date</th>\n",
              "      <th></th>\n",
              "      <th></th>\n",
              "      <th></th>\n",
              "      <th></th>\n",
              "      <th></th>\n",
              "    </tr>\n",
              "  </thead>\n",
              "  <tbody>\n",
              "    <tr>\n",
              "      <th>2025-05-19</th>\n",
              "      <td>208.543320</td>\n",
              "      <td>209.242523</td>\n",
              "      <td>204.028439</td>\n",
              "      <td>207.674311</td>\n",
              "      <td>46140500</td>\n",
              "    </tr>\n",
              "    <tr>\n",
              "      <th>2025-05-20</th>\n",
              "      <td>206.625504</td>\n",
              "      <td>208.233679</td>\n",
              "      <td>204.797576</td>\n",
              "      <td>207.434583</td>\n",
              "      <td>42496600</td>\n",
              "    </tr>\n",
              "    <tr>\n",
              "      <th>2025-05-21</th>\n",
              "      <td>201.860901</td>\n",
              "      <td>206.805286</td>\n",
              "      <td>200.482476</td>\n",
              "      <td>204.937411</td>\n",
              "      <td>59211800</td>\n",
              "    </tr>\n",
              "    <tr>\n",
              "      <th>2025-05-22</th>\n",
              "      <td>201.131729</td>\n",
              "      <td>202.520153</td>\n",
              "      <td>199.473607</td>\n",
              "      <td>200.482472</td>\n",
              "      <td>46742400</td>\n",
              "    </tr>\n",
              "    <tr>\n",
              "      <th>2025-05-23</th>\n",
              "      <td>195.048645</td>\n",
              "      <td>197.475883</td>\n",
              "      <td>193.240699</td>\n",
              "      <td>193.450453</td>\n",
              "      <td>78432900</td>\n",
              "    </tr>\n",
              "  </tbody>\n",
              "</table>\n",
              "</div>\n",
              "    <div class=\"colab-df-buttons\">\n",
              "\n",
              "  <div class=\"colab-df-container\">\n",
              "    <button class=\"colab-df-convert\" onclick=\"convertToInteractive('df-74e9ce8a-5348-49c1-b322-c6346e5c5e86')\"\n",
              "            title=\"Convert this dataframe to an interactive table.\"\n",
              "            style=\"display:none;\">\n",
              "\n",
              "  <svg xmlns=\"http://www.w3.org/2000/svg\" height=\"24px\" viewBox=\"0 -960 960 960\">\n",
              "    <path d=\"M120-120v-720h720v720H120Zm60-500h600v-160H180v160Zm220 220h160v-160H400v160Zm0 220h160v-160H400v160ZM180-400h160v-160H180v160Zm440 0h160v-160H620v160ZM180-180h160v-160H180v160Zm440 0h160v-160H620v160Z\"/>\n",
              "  </svg>\n",
              "    </button>\n",
              "\n",
              "  <style>\n",
              "    .colab-df-container {\n",
              "      display:flex;\n",
              "      gap: 12px;\n",
              "    }\n",
              "\n",
              "    .colab-df-convert {\n",
              "      background-color: #E8F0FE;\n",
              "      border: none;\n",
              "      border-radius: 50%;\n",
              "      cursor: pointer;\n",
              "      display: none;\n",
              "      fill: #1967D2;\n",
              "      height: 32px;\n",
              "      padding: 0 0 0 0;\n",
              "      width: 32px;\n",
              "    }\n",
              "\n",
              "    .colab-df-convert:hover {\n",
              "      background-color: #E2EBFA;\n",
              "      box-shadow: 0px 1px 2px rgba(60, 64, 67, 0.3), 0px 1px 3px 1px rgba(60, 64, 67, 0.15);\n",
              "      fill: #174EA6;\n",
              "    }\n",
              "\n",
              "    .colab-df-buttons div {\n",
              "      margin-bottom: 4px;\n",
              "    }\n",
              "\n",
              "    [theme=dark] .colab-df-convert {\n",
              "      background-color: #3B4455;\n",
              "      fill: #D2E3FC;\n",
              "    }\n",
              "\n",
              "    [theme=dark] .colab-df-convert:hover {\n",
              "      background-color: #434B5C;\n",
              "      box-shadow: 0px 1px 3px 1px rgba(0, 0, 0, 0.15);\n",
              "      filter: drop-shadow(0px 1px 2px rgba(0, 0, 0, 0.3));\n",
              "      fill: #FFFFFF;\n",
              "    }\n",
              "  </style>\n",
              "\n",
              "    <script>\n",
              "      const buttonEl =\n",
              "        document.querySelector('#df-74e9ce8a-5348-49c1-b322-c6346e5c5e86 button.colab-df-convert');\n",
              "      buttonEl.style.display =\n",
              "        google.colab.kernel.accessAllowed ? 'block' : 'none';\n",
              "\n",
              "      async function convertToInteractive(key) {\n",
              "        const element = document.querySelector('#df-74e9ce8a-5348-49c1-b322-c6346e5c5e86');\n",
              "        const dataTable =\n",
              "          await google.colab.kernel.invokeFunction('convertToInteractive',\n",
              "                                                    [key], {});\n",
              "        if (!dataTable) return;\n",
              "\n",
              "        const docLinkHtml = 'Like what you see? Visit the ' +\n",
              "          '<a target=\"_blank\" href=https://colab.research.google.com/notebooks/data_table.ipynb>data table notebook</a>'\n",
              "          + ' to learn more about interactive tables.';\n",
              "        element.innerHTML = '';\n",
              "        dataTable['output_type'] = 'display_data';\n",
              "        await google.colab.output.renderOutput(dataTable, element);\n",
              "        const docLink = document.createElement('div');\n",
              "        docLink.innerHTML = docLinkHtml;\n",
              "        element.appendChild(docLink);\n",
              "      }\n",
              "    </script>\n",
              "  </div>\n",
              "\n",
              "\n",
              "    <div id=\"df-5970e257-56d2-49c1-a7c2-8cbdeeedb5bd\">\n",
              "      <button class=\"colab-df-quickchart\" onclick=\"quickchart('df-5970e257-56d2-49c1-a7c2-8cbdeeedb5bd')\"\n",
              "                title=\"Suggest charts\"\n",
              "                style=\"display:none;\">\n",
              "\n",
              "<svg xmlns=\"http://www.w3.org/2000/svg\" height=\"24px\"viewBox=\"0 0 24 24\"\n",
              "     width=\"24px\">\n",
              "    <g>\n",
              "        <path d=\"M19 3H5c-1.1 0-2 .9-2 2v14c0 1.1.9 2 2 2h14c1.1 0 2-.9 2-2V5c0-1.1-.9-2-2-2zM9 17H7v-7h2v7zm4 0h-2V7h2v10zm4 0h-2v-4h2v4z\"/>\n",
              "    </g>\n",
              "</svg>\n",
              "      </button>\n",
              "\n",
              "<style>\n",
              "  .colab-df-quickchart {\n",
              "      --bg-color: #E8F0FE;\n",
              "      --fill-color: #1967D2;\n",
              "      --hover-bg-color: #E2EBFA;\n",
              "      --hover-fill-color: #174EA6;\n",
              "      --disabled-fill-color: #AAA;\n",
              "      --disabled-bg-color: #DDD;\n",
              "  }\n",
              "\n",
              "  [theme=dark] .colab-df-quickchart {\n",
              "      --bg-color: #3B4455;\n",
              "      --fill-color: #D2E3FC;\n",
              "      --hover-bg-color: #434B5C;\n",
              "      --hover-fill-color: #FFFFFF;\n",
              "      --disabled-bg-color: #3B4455;\n",
              "      --disabled-fill-color: #666;\n",
              "  }\n",
              "\n",
              "  .colab-df-quickchart {\n",
              "    background-color: var(--bg-color);\n",
              "    border: none;\n",
              "    border-radius: 50%;\n",
              "    cursor: pointer;\n",
              "    display: none;\n",
              "    fill: var(--fill-color);\n",
              "    height: 32px;\n",
              "    padding: 0;\n",
              "    width: 32px;\n",
              "  }\n",
              "\n",
              "  .colab-df-quickchart:hover {\n",
              "    background-color: var(--hover-bg-color);\n",
              "    box-shadow: 0 1px 2px rgba(60, 64, 67, 0.3), 0 1px 3px 1px rgba(60, 64, 67, 0.15);\n",
              "    fill: var(--button-hover-fill-color);\n",
              "  }\n",
              "\n",
              "  .colab-df-quickchart-complete:disabled,\n",
              "  .colab-df-quickchart-complete:disabled:hover {\n",
              "    background-color: var(--disabled-bg-color);\n",
              "    fill: var(--disabled-fill-color);\n",
              "    box-shadow: none;\n",
              "  }\n",
              "\n",
              "  .colab-df-spinner {\n",
              "    border: 2px solid var(--fill-color);\n",
              "    border-color: transparent;\n",
              "    border-bottom-color: var(--fill-color);\n",
              "    animation:\n",
              "      spin 1s steps(1) infinite;\n",
              "  }\n",
              "\n",
              "  @keyframes spin {\n",
              "    0% {\n",
              "      border-color: transparent;\n",
              "      border-bottom-color: var(--fill-color);\n",
              "      border-left-color: var(--fill-color);\n",
              "    }\n",
              "    20% {\n",
              "      border-color: transparent;\n",
              "      border-left-color: var(--fill-color);\n",
              "      border-top-color: var(--fill-color);\n",
              "    }\n",
              "    30% {\n",
              "      border-color: transparent;\n",
              "      border-left-color: var(--fill-color);\n",
              "      border-top-color: var(--fill-color);\n",
              "      border-right-color: var(--fill-color);\n",
              "    }\n",
              "    40% {\n",
              "      border-color: transparent;\n",
              "      border-right-color: var(--fill-color);\n",
              "      border-top-color: var(--fill-color);\n",
              "    }\n",
              "    60% {\n",
              "      border-color: transparent;\n",
              "      border-right-color: var(--fill-color);\n",
              "    }\n",
              "    80% {\n",
              "      border-color: transparent;\n",
              "      border-right-color: var(--fill-color);\n",
              "      border-bottom-color: var(--fill-color);\n",
              "    }\n",
              "    90% {\n",
              "      border-color: transparent;\n",
              "      border-bottom-color: var(--fill-color);\n",
              "    }\n",
              "  }\n",
              "</style>\n",
              "\n",
              "      <script>\n",
              "        async function quickchart(key) {\n",
              "          const quickchartButtonEl =\n",
              "            document.querySelector('#' + key + ' button');\n",
              "          quickchartButtonEl.disabled = true;  // To prevent multiple clicks.\n",
              "          quickchartButtonEl.classList.add('colab-df-spinner');\n",
              "          try {\n",
              "            const charts = await google.colab.kernel.invokeFunction(\n",
              "                'suggestCharts', [key], {});\n",
              "          } catch (error) {\n",
              "            console.error('Error during call to suggestCharts:', error);\n",
              "          }\n",
              "          quickchartButtonEl.classList.remove('colab-df-spinner');\n",
              "          quickchartButtonEl.classList.add('colab-df-quickchart-complete');\n",
              "        }\n",
              "        (() => {\n",
              "          let quickchartButtonEl =\n",
              "            document.querySelector('#df-5970e257-56d2-49c1-a7c2-8cbdeeedb5bd button');\n",
              "          quickchartButtonEl.style.display =\n",
              "            google.colab.kernel.accessAllowed ? 'block' : 'none';\n",
              "        })();\n",
              "      </script>\n",
              "    </div>\n",
              "    </div>\n",
              "  </div>\n"
            ],
            "application/vnd.google.colaboratory.intrinsic+json": {
              "type": "dataframe",
              "variable_name": "AAPL",
              "summary": "{\n  \"name\": \"AAPL\",\n  \"rows\": 111,\n  \"fields\": [\n    {\n      \"column\": [\n        \"Date\",\n        \"\"\n      ],\n      \"properties\": {\n        \"dtype\": \"date\",\n        \"min\": \"2025-05-19 00:00:00\",\n        \"max\": \"2025-10-24 00:00:00\",\n        \"num_unique_values\": 111,\n        \"samples\": [\n          \"2025-09-10 00:00:00\",\n          \"2025-06-03 00:00:00\",\n          \"2025-05-23 00:00:00\"\n        ],\n        \"semantic_type\": \"\",\n        \"description\": \"\"\n      }\n    },\n    {\n      \"column\": [\n        \"Close\",\n        \"AAPL\"\n      ],\n      \"properties\": {\n        \"dtype\": \"number\",\n        \"std\": 21.075273345281605,\n        \"min\": 195.04864501953125,\n        \"max\": 262.82000732421875,\n        \"num_unique_values\": 108,\n        \"samples\": [\n          226.7899932861328,\n          203.03956604003906,\n          195.04864501953125\n        ],\n        \"semantic_type\": \"\",\n        \"description\": \"\"\n      }\n    },\n    {\n      \"column\": [\n        \"High\",\n        \"AAPL\"\n      ],\n      \"properties\": {\n        \"dtype\": \"number\",\n        \"std\": 20.977904783431068,\n        \"min\": 197.3460303816964,\n        \"max\": 265.2900085449219,\n        \"num_unique_values\": 111,\n        \"samples\": [\n          232.4199981689453,\n          203.5389992121068,\n          197.4758830409797\n        ],\n        \"semantic_type\": \"\",\n        \"description\": \"\"\n      }\n    },\n    {\n      \"column\": [\n        \"Low\",\n        \"AAPL\"\n      ],\n      \"properties\": {\n        \"dtype\": \"number\",\n        \"std\": 20.724461861924677,\n        \"min\": 193.24069928507132,\n        \"max\": 261.8299865722656,\n        \"num_unique_values\": 109,\n        \"samples\": [\n          226.64999389648438,\n          200.7321872237246,\n          193.24069928507132\n        ],\n        \"semantic_type\": \"\",\n        \"description\": \"\"\n      }\n    },\n    {\n      \"column\": [\n        \"Open\",\n        \"AAPL\"\n      ],\n      \"properties\": {\n        \"dtype\": \"number\",\n        \"std\": 20.859564049685133,\n        \"min\": 193.45045269257122,\n        \"max\": 262.6499938964844,\n        \"num_unique_values\": 110,\n        \"samples\": [\n          232.19000244140625,\n          201.1217444882778,\n          193.45045269257122\n        ],\n        \"semantic_type\": \"\",\n        \"description\": \"\"\n      }\n    },\n    {\n      \"column\": [\n        \"Volume\",\n        \"AAPL\"\n      ],\n      \"properties\": {\n        \"dtype\": \"number\",\n        \"std\": 20469087,\n        \"min\": 30621200,\n        \"max\": 163741300,\n        \"num_unique_values\": 111,\n        \"samples\": [\n          83440800,\n          46381600,\n          78432900\n        ],\n        \"semantic_type\": \"\",\n        \"description\": \"\"\n      }\n    }\n  ]\n}"
            }
          },
          "metadata": {},
          "execution_count": 77
        }
      ]
    },
    {
      "cell_type": "code",
      "source": [
        "AAPL.columns"
      ],
      "metadata": {
        "colab": {
          "base_uri": "https://localhost:8080/"
        },
        "id": "WwIUTAjKfWxT",
        "outputId": "e98b1b39-e6b6-486f-8f08-fc1877fb38be"
      },
      "execution_count": 75,
      "outputs": [
        {
          "output_type": "execute_result",
          "data": {
            "text/plain": [
              "MultiIndex([( 'Close', 'AAPL'),\n",
              "            (  'High', 'AAPL'),\n",
              "            (   'Low', 'AAPL'),\n",
              "            (  'Open', 'AAPL'),\n",
              "            ('Volume', 'AAPL')],\n",
              "           names=['Price', 'Ticker'])"
            ]
          },
          "metadata": {},
          "execution_count": 75
        }
      ]
    },
    {
      "cell_type": "code",
      "source": [
        "AAPL['Close'].plot()\n",
        "plt.xlabel('date')\n",
        "plt.ylabel('$price')\n",
        "plt.title('AAPL stock price')"
      ],
      "metadata": {
        "colab": {
          "base_uri": "https://localhost:8080/",
          "height": 472
        },
        "id": "Ikh-ntk4f8Xc",
        "outputId": "2a5d3b2c-fd2b-4bb1-a4ab-2f0a0e2415e4"
      },
      "execution_count": 76,
      "outputs": [
        {
          "output_type": "execute_result",
          "data": {
            "text/plain": [
              "Text(0.5, 1.0, 'AAPL stock price')"
            ]
          },
          "metadata": {},
          "execution_count": 76
        },
        {
          "output_type": "display_data",
          "data": {
            "text/plain": [
              "<Figure size 640x480 with 1 Axes>"
            ],
            "image/png": "[encoded data removed]"
          },
          "metadata": {}
        }
      ]
    },
    {
      "cell_type": "code",
      "source": [
        "tickers=['META','AMZN','AAPL','NFLX','GOOG']\n",
        "portfolio=yf.download(tickers,start_date,end_date)"
      ],
      "metadata": {
        "colab": {
          "base_uri": "https://localhost:8080/"
        },
        "id": "mzZBOURzjDUs",
        "outputId": "5099988a-a8fb-42b6-b230-3414f6f5a1d3"
      },
      "execution_count": 78,
      "outputs": [
        {
          "output_type": "stream",
          "name": "stderr",
          "text": [
            "/tmp/ipython-input-2298366423.py:2: FutureWarning: YF.download() has changed argument auto_adjust default to True\n",
            "  portfolio=yf.download(tickers,start_date,end_date)\n",
            "[*********************100%***********************]  5 of 5 completed\n"
          ]
        }
      ]
    },
    {
      "cell_type": "code",
      "source": [
        "close=portfolio['Close']\n",
        "close.head()#top 5 rows"
      ],
      "metadata": {
        "colab": {
          "base_uri": "https://localhost:8080/",
          "height": 238
        },
        "id": "PKIUEiufjzuN",
        "outputId": "49ed8340-a72d-403f-f260-bd74893a403f"
      },
      "execution_count": 82,
      "outputs": [
        {
          "output_type": "execute_result",
          "data": {
            "text/plain": [
              "Ticker            AAPL        AMZN        GOOG        META         NFLX\n",
              "Date                                                                   \n",
              "2025-05-19  208.543320  206.160004  167.518723  639.505981  1191.640015\n",
              "2025-05-20  206.625504  204.070007  164.974091  636.180786  1192.020020\n",
              "2025-05-21  201.860901  201.119995  169.704147  634.583130  1194.630005\n",
              "2025-05-22  201.131729  203.100006  171.620132  635.651550  1187.969971\n",
              "2025-05-23  195.048645  200.990005  169.235138  626.155273  1185.390015"
            ],
            "text/html": [
              "\n",
              "  <div id=\"df-f500bb90-6d53-4942-b015-1b3c3f14d493\" class=\"colab-df-container\">\n",
              "    <div>\n",
              "<style scoped>\n",
              "    .dataframe tbody tr th:only-of-type {\n",
              "        vertical-align: middle;\n",
              "    }\n",
              "\n",
              "    .dataframe tbody tr th {\n",
              "        vertical-align: top;\n",
              "    }\n",
              "\n",
              "    .dataframe thead th {\n",
              "        text-align: right;\n",
              "    }\n",
              "</style>\n",
              "<table border=\"1\" class=\"dataframe\">\n",
              "  <thead>\n",
              "    <tr style=\"text-align: right;\">\n",
              "      <th>Ticker</th>\n",
              "      <th>AAPL</th>\n",
              "      <th>AMZN</th>\n",
              "      <th>GOOG</th>\n",
              "      <th>META</th>\n",
              "      <th>NFLX</th>\n",
              "    </tr>\n",
              "    <tr>\n",
              "      <th>Date</th>\n",
              "      <th></th>\n",
              "      <th></th>\n",
              "      <th></th>\n",
              "      <th></th>\n",
              "      <th></th>\n",
              "    </tr>\n",
              "  </thead>\n",
              "  <tbody>\n",
              "    <tr>\n",
              "      <th>2025-05-19</th>\n",
              "      <td>208.543320</td>\n",
              "      <td>206.160004</td>\n",
              "      <td>167.518723</td>\n",
              "      <td>639.505981</td>\n",
              "      <td>1191.640015</td>\n",
              "    </tr>\n",
              "    <tr>\n",
              "      <th>2025-05-20</th>\n",
              "      <td>206.625504</td>\n",
              "      <td>204.070007</td>\n",
              "      <td>164.974091</td>\n",
              "      <td>636.180786</td>\n",
              "      <td>1192.020020</td>\n",
              "    </tr>\n",
              "    <tr>\n",
              "      <th>2025-05-21</th>\n",
              "      <td>201.860901</td>\n",
              "      <td>201.119995</td>\n",
              "      <td>169.704147</td>\n",
              "      <td>634.583130</td>\n",
              "      <td>1194.630005</td>\n",
              "    </tr>\n",
              "    <tr>\n",
              "      <th>2025-05-22</th>\n",
              "      <td>201.131729</td>\n",
              "      <td>203.100006</td>\n",
              "      <td>171.620132</td>\n",
              "      <td>635.651550</td>\n",
              "      <td>1187.969971</td>\n",
              "    </tr>\n",
              "    <tr>\n",
              "      <th>2025-05-23</th>\n",
              "      <td>195.048645</td>\n",
              "      <td>200.990005</td>\n",
              "      <td>169.235138</td>\n",
              "      <td>626.155273</td>\n",
              "      <td>1185.390015</td>\n",
              "    </tr>\n",
              "  </tbody>\n",
              "</table>\n",
              "</div>\n",
              "    <div class=\"colab-df-buttons\">\n",
              "\n",
              "  <div class=\"colab-df-container\">\n",
              "    <button class=\"colab-df-convert\" onclick=\"convertToInteractive('df-f500bb90-6d53-4942-b015-1b3c3f14d493')\"\n",
              "            title=\"Convert this dataframe to an interactive table.\"\n",
              "            style=\"display:none;\">\n",
              "\n",
              "  <svg xmlns=\"http://www.w3.org/2000/svg\" height=\"24px\" viewBox=\"0 -960 960 960\">\n",
              "    <path d=\"M120-120v-720h720v720H120Zm60-500h600v-160H180v160Zm220 220h160v-160H400v160Zm0 220h160v-160H400v160ZM180-400h160v-160H180v160Zm440 0h160v-160H620v160ZM180-180h160v-160H180v160Zm440 0h160v-160H620v160Z\"/>\n",
              "  </svg>\n",
              "    </button>\n",
              "\n",
              "  <style>\n",
              "    .colab-df-container {\n",
              "      display:flex;\n",
              "      gap: 12px;\n",
              "    }\n",
              "\n",
              "    .colab-df-convert {\n",
              "      background-color: #E8F0FE;\n",
              "      border: none;\n",
              "      border-radius: 50%;\n",
              "      cursor: pointer;\n",
              "      display: none;\n",
              "      fill: #1967D2;\n",
              "      height: 32px;\n",
              "      padding: 0 0 0 0;\n",
              "      width: 32px;\n",
              "    }\n",
              "\n",
              "    .colab-df-convert:hover {\n",
              "      background-color: #E2EBFA;\n",
              "      box-shadow: 0px 1px 2px rgba(60, 64, 67, 0.3), 0px 1px 3px 1px rgba(60, 64, 67, 0.15);\n",
              "      fill: #174EA6;\n",
              "    }\n",
              "\n",
              "    .colab-df-buttons div {\n",
              "      margin-bottom: 4px;\n",
              "    }\n",
              "\n",
              "    [theme=dark] .colab-df-convert {\n",
              "      background-color: #3B4455;\n",
              "      fill: #D2E3FC;\n",
              "    }\n",
              "\n",
              "    [theme=dark] .colab-df-convert:hover {\n",
              "      background-color: #434B5C;\n",
              "      box-shadow: 0px 1px 3px 1px rgba(0, 0, 0, 0.15);\n",
              "      filter: drop-shadow(0px 1px 2px rgba(0, 0, 0, 0.3));\n",
              "      fill: #FFFFFF;\n",
              "    }\n",
              "  </style>\n",
              "\n",
              "    <script>\n",
              "      const buttonEl =\n",
              "        document.querySelector('#df-f500bb90-6d53-4942-b015-1b3c3f14d493 button.colab-df-convert');\n",
              "      buttonEl.style.display =\n",
              "        google.colab.kernel.accessAllowed ? 'block' : 'none';\n",
              "\n",
              "      async function convertToInteractive(key) {\n",
              "        const element = document.querySelector('#df-f500bb90-6d53-4942-b015-1b3c3f14d493');\n",
              "        const dataTable =\n",
              "          await google.colab.kernel.invokeFunction('convertToInteractive',\n",
              "                                                    [key], {});\n",
              "        if (!dataTable) return;\n",
              "\n",
              "        const docLinkHtml = 'Like what you see? Visit the ' +\n",
              "          '<a target=\"_blank\" href=https://colab.research.google.com/notebooks/data_table.ipynb>data table notebook</a>'\n",
              "          + ' to learn more about interactive tables.';\n",
              "        element.innerHTML = '';\n",
              "        dataTable['output_type'] = 'display_data';\n",
              "        await google.colab.output.renderOutput(dataTable, element);\n",
              "        const docLink = document.createElement('div');\n",
              "        docLink.innerHTML = docLinkHtml;\n",
              "        element.appendChild(docLink);\n",
              "      }\n",
              "    </script>\n",
              "  </div>\n",
              "\n",
              "\n",
              "    <div id=\"df-df1a4abc-35e8-4aa7-a33c-40f115780fda\">\n",
              "      <button class=\"colab-df-quickchart\" onclick=\"quickchart('df-df1a4abc-35e8-4aa7-a33c-40f115780fda')\"\n",
              "                title=\"Suggest charts\"\n",
              "                style=\"display:none;\">\n",
              "\n",
              "<svg xmlns=\"http://www.w3.org/2000/svg\" height=\"24px\"viewBox=\"0 0 24 24\"\n",
              "     width=\"24px\">\n",
              "    <g>\n",
              "        <path d=\"M19 3H5c-1.1 0-2 .9-2 2v14c0 1.1.9 2 2 2h14c1.1 0 2-.9 2-2V5c0-1.1-.9-2-2-2zM9 17H7v-7h2v7zm4 0h-2V7h2v10zm4 0h-2v-4h2v4z\"/>\n",
              "    </g>\n",
              "</svg>\n",
              "      </button>\n",
              "\n",
              "<style>\n",
              "  .colab-df-quickchart {\n",
              "      --bg-color: #E8F0FE;\n",
              "      --fill-color: #1967D2;\n",
              "      --hover-bg-color: #E2EBFA;\n",
              "      --hover-fill-color: #174EA6;\n",
              "      --disabled-fill-color: #AAA;\n",
              "      --disabled-bg-color: #DDD;\n",
              "  }\n",
              "\n",
              "  [theme=dark] .colab-df-quickchart {\n",
              "      --bg-color: #3B4455;\n",
              "      --fill-color: #D2E3FC;\n",
              "      --hover-bg-color: #434B5C;\n",
              "      --hover-fill-color: #FFFFFF;\n",
              "      --disabled-bg-color: #3B4455;\n",
              "      --disabled-fill-color: #666;\n",
              "  }\n",
              "\n",
              "  .colab-df-quickchart {\n",
              "    background-color: var(--bg-color);\n",
              "    border: none;\n",
              "    border-radius: 50%;\n",
              "    cursor: pointer;\n",
              "    display: none;\n",
              "    fill: var(--fill-color);\n",
              "    height: 32px;\n",
              "    padding: 0;\n",
              "    width: 32px;\n",
              "  }\n",
              "\n",
              "  .colab-df-quickchart:hover {\n",
              "    background-color: var(--hover-bg-color);\n",
              "    box-shadow: 0 1px 2px rgba(60, 64, 67, 0.3), 0 1px 3px 1px rgba(60, 64, 67, 0.15);\n",
              "    fill: var(--button-hover-fill-color);\n",
              "  }\n",
              "\n",
              "  .colab-df-quickchart-complete:disabled,\n",
              "  .colab-df-quickchart-complete:disabled:hover {\n",
              "    background-color: var(--disabled-bg-color);\n",
              "    fill: var(--disabled-fill-color);\n",
              "    box-shadow: none;\n",
              "  }\n",
              "\n",
              "  .colab-df-spinner {\n",
              "    border: 2px solid var(--fill-color);\n",
              "    border-color: transparent;\n",
              "    border-bottom-color: var(--fill-color);\n",
              "    animation:\n",
              "      spin 1s steps(1) infinite;\n",
              "  }\n",
              "\n",
              "  @keyframes spin {\n",
              "    0% {\n",
              "      border-color: transparent;\n",
              "      border-bottom-color: var(--fill-color);\n",
              "      border-left-color: var(--fill-color);\n",
              "    }\n",
              "    20% {\n",
              "      border-color: transparent;\n",
              "      border-left-color: var(--fill-color);\n",
              "      border-top-color: var(--fill-color);\n",
              "    }\n",
              "    30% {\n",
              "      border-color: transparent;\n",
              "      border-left-color: var(--fill-color);\n",
              "      border-top-color: var(--fill-color);\n",
              "      border-right-color: var(--fill-color);\n",
              "    }\n",
              "    40% {\n",
              "      border-color: transparent;\n",
              "      border-right-color: var(--fill-color);\n",
              "      border-top-color: var(--fill-color);\n",
              "    }\n",
              "    60% {\n",
              "      border-color: transparent;\n",
              "      border-right-color: var(--fill-color);\n",
              "    }\n",
              "    80% {\n",
              "      border-color: transparent;\n",
              "      border-right-color: var(--fill-color);\n",
              "      border-bottom-color: var(--fill-color);\n",
              "    }\n",
              "    90% {\n",
              "      border-color: transparent;\n",
              "      border-bottom-color: var(--fill-color);\n",
              "    }\n",
              "  }\n",
              "</style>\n",
              "\n",
              "      <script>\n",
              "        async function quickchart(key) {\n",
              "          const quickchartButtonEl =\n",
              "            document.querySelector('#' + key + ' button');\n",
              "          quickchartButtonEl.disabled = true;  // To prevent multiple clicks.\n",
              "          quickchartButtonEl.classList.add('colab-df-spinner');\n",
              "          try {\n",
              "            const charts = await google.colab.kernel.invokeFunction(\n",
              "                'suggestCharts', [key], {});\n",
              "          } catch (error) {\n",
              "            console.error('Error during call to suggestCharts:', error);\n",
              "          }\n",
              "          quickchartButtonEl.classList.remove('colab-df-spinner');\n",
              "          quickchartButtonEl.classList.add('colab-df-quickchart-complete');\n",
              "        }\n",
              "        (() => {\n",
              "          let quickchartButtonEl =\n",
              "            document.querySelector('#df-df1a4abc-35e8-4aa7-a33c-40f115780fda button');\n",
              "          quickchartButtonEl.style.display =\n",
              "            google.colab.kernel.accessAllowed ? 'block' : 'none';\n",
              "        })();\n",
              "      </script>\n",
              "    </div>\n",
              "    </div>\n",
              "  </div>\n"
            ],
            "application/vnd.google.colaboratory.intrinsic+json": {
              "type": "dataframe",
              "variable_name": "close",
              "summary": "{\n  \"name\": \"close\",\n  \"rows\": 111,\n  \"fields\": [\n    {\n      \"column\": \"Date\",\n      \"properties\": {\n        \"dtype\": \"date\",\n        \"min\": \"2025-05-19 00:00:00\",\n        \"max\": \"2025-10-24 00:00:00\",\n        \"num_unique_values\": 111,\n        \"samples\": [\n          \"2025-09-10 00:00:00\",\n          \"2025-06-03 00:00:00\",\n          \"2025-05-23 00:00:00\"\n        ],\n        \"semantic_type\": \"\",\n        \"description\": \"\"\n      }\n    },\n    {\n      \"column\": \"AAPL\",\n      \"properties\": {\n        \"dtype\": \"number\",\n        \"std\": 21.075273345281605,\n        \"min\": 195.04864501953125,\n        \"max\": 262.82000732421875,\n        \"num_unique_values\": 108,\n        \"samples\": [\n          226.7899932861328,\n          203.03956604003906,\n          195.04864501953125\n        ],\n        \"semantic_type\": \"\",\n        \"description\": \"\"\n      }\n    },\n    {\n      \"column\": \"AMZN\",\n      \"properties\": {\n        \"dtype\": \"number\",\n        \"std\": 8.71426676917663,\n        \"min\": 200.99000549316406,\n        \"max\": 238.24000549316406,\n        \"num_unique_values\": 111,\n        \"samples\": [\n          230.3300018310547,\n          205.7100067138672,\n          200.99000549316406\n        ],\n        \"semantic_type\": \"\",\n        \"description\": \"\"\n      }\n    },\n    {\n      \"column\": \"GOOG\",\n      \"properties\": {\n        \"dtype\": \"number\",\n        \"std\": 31.433332347600402,\n        \"min\": 164.97409057617188,\n        \"max\": 260.510009765625,\n        \"num_unique_values\": 111,\n        \"samples\": [\n          239.55999755859375,\n          167.3590850830078,\n          169.23513793945312\n        ],\n        \"semantic_type\": \"\",\n        \"description\": \"\"\n      }\n    },\n    {\n      \"column\": \"META\",\n      \"properties\": {\n        \"dtype\": \"number\",\n        \"std\": 37.459551956746424,\n        \"min\": 626.1552734375,\n        \"max\": 789.4671630859375,\n        \"num_unique_values\": 111,\n        \"samples\": [\n          751.4727783203125,\n          665.8878173828125,\n          626.1552734375\n        ],\n        \"semantic_type\": \"\",\n        \"description\": \"\"\n      }\n    },\n    {\n      \"column\": \"NFLX\",\n      \"properties\": {\n        \"dtype\": \"number\",\n        \"std\": 40.563922748951725,\n        \"min\": 1094.68994140625,\n        \"max\": 1339.1300048828125,\n        \"num_unique_values\": 111,\n        \"samples\": [\n          1247.7099609375,\n          1217.93994140625,\n          1185.3900146484375\n        ],\n        \"semantic_type\": \"\",\n        \"description\": \"\"\n      }\n    }\n  ]\n}"
            }
          },
          "metadata": {},
          "execution_count": 82
        }
      ]
    },
    {
      "cell_type": "code",
      "source": [
        "portfolio['Close'].plot(figsize=(16,8))"
      ],
      "metadata": {
        "colab": {
          "base_uri": "https://localhost:8080/",
          "height": 556
        },
        "id": "G_QVeTS1kUBS",
        "outputId": "f15a3f05-c54a-468c-abfd-6864baa13551"
      },
      "execution_count": 84,
      "outputs": [
        {
          "output_type": "execute_result",
          "data": {
            "text/plain": [
              "<Axes: xlabel='Date'>"
            ]
          },
          "metadata": {},
          "execution_count": 84
        },
        {
          "output_type": "display_data",
          "data": {
            "text/plain": [
              "<Figure size 1600x800 with 1 Axes>"
            ],
            "image/png": "[encoded data removed]"
          },
          "metadata": {}
        }
      ]
    },
    {
      "cell_type": "code",
      "source": [
        "portfolio ['Close']. pct_change().corr()"
      ],
      "metadata": {
        "colab": {
          "base_uri": "https://localhost:8080/",
          "height": 238
        },
        "id": "OQhsRPeqliBD",
        "outputId": "d19320db-391d-480f-ad05-d8c9c1b42ef2"
      },
      "execution_count": 91,
      "outputs": [
        {
          "output_type": "execute_result",
          "data": {
            "text/plain": [
              "Ticker      AAPL      AMZN      GOOG      META      NFLX\n",
              "Ticker                                                  \n",
              "AAPL    1.000000  0.361748  0.321657  0.176354  0.212280\n",
              "AMZN    0.361748  1.000000  0.326256  0.495467  0.257218\n",
              "GOOG    0.321657  0.326256  1.000000  0.192674  0.123120\n",
              "META    0.176354  0.495467  0.192674  1.000000  0.222757\n",
              "NFLX    0.212280  0.257218  0.123120  0.222757  1.000000"
            ],
            "text/html": [
              "\n",
              "  <div id=\"df-6cbcde53-d879-4b09-bb76-b700c7251c5d\" class=\"colab-df-container\">\n",
              "    <div>\n",
              "<style scoped>\n",
              "    .dataframe tbody tr th:only-of-type {\n",
              "        vertical-align: middle;\n",
              "    }\n",
              "\n",
              "    .dataframe tbody tr th {\n",
              "        vertical-align: top;\n",
              "    }\n",
              "\n",
              "    .dataframe thead th {\n",
              "        text-align: right;\n",
              "    }\n",
              "</style>\n",
              "<table border=\"1\" class=\"dataframe\">\n",
              "  <thead>\n",
              "    <tr style=\"text-align: right;\">\n",
              "      <th>Ticker</th>\n",
              "      <th>AAPL</th>\n",
              "      <th>AMZN</th>\n",
              "      <th>GOOG</th>\n",
              "      <th>META</th>\n",
              "      <th>NFLX</th>\n",
              "    </tr>\n",
              "    <tr>\n",
              "      <th>Ticker</th>\n",
              "      <th></th>\n",
              "      <th></th>\n",
              "      <th></th>\n",
              "      <th></th>\n",
              "      <th></th>\n",
              "    </tr>\n",
              "  </thead>\n",
              "  <tbody>\n",
              "    <tr>\n",
              "      <th>AAPL</th>\n",
              "      <td>1.000000</td>\n",
              "      <td>0.361748</td>\n",
              "      <td>0.321657</td>\n",
              "      <td>0.176354</td>\n",
              "      <td>0.212280</td>\n",
              "    </tr>\n",
              "    <tr>\n",
              "      <th>AMZN</th>\n",
              "      <td>0.361748</td>\n",
              "      <td>1.000000</td>\n",
              "      <td>0.326256</td>\n",
              "      <td>0.495467</td>\n",
              "      <td>0.257218</td>\n",
              "    </tr>\n",
              "    <tr>\n",
              "      <th>GOOG</th>\n",
              "      <td>0.321657</td>\n",
              "      <td>0.326256</td>\n",
              "      <td>1.000000</td>\n",
              "      <td>0.192674</td>\n",
              "      <td>0.123120</td>\n",
              "    </tr>\n",
              "    <tr>\n",
              "      <th>META</th>\n",
              "      <td>0.176354</td>\n",
              "      <td>0.495467</td>\n",
              "      <td>0.192674</td>\n",
              "      <td>1.000000</td>\n",
              "      <td>0.222757</td>\n",
              "    </tr>\n",
              "    <tr>\n",
              "      <th>NFLX</th>\n",
              "      <td>0.212280</td>\n",
              "      <td>0.257218</td>\n",
              "      <td>0.123120</td>\n",
              "      <td>0.222757</td>\n",
              "      <td>1.000000</td>\n",
              "    </tr>\n",
              "  </tbody>\n",
              "</table>\n",
              "</div>\n",
              "    <div class=\"colab-df-buttons\">\n",
              "\n",
              "  <div class=\"colab-df-container\">\n",
              "    <button class=\"colab-df-convert\" onclick=\"convertToInteractive('df-6cbcde53-d879-4b09-bb76-b700c7251c5d')\"\n",
              "            title=\"Convert this dataframe to an interactive table.\"\n",
              "            style=\"display:none;\">\n",
              "\n",
              "  <svg xmlns=\"http://www.w3.org/2000/svg\" height=\"24px\" viewBox=\"0 -960 960 960\">\n",
              "    <path d=\"M120-120v-720h720v720H120Zm60-500h600v-160H180v160Zm220 220h160v-160H400v160Zm0 220h160v-160H400v160ZM180-400h160v-160H180v160Zm440 0h160v-160H620v160ZM180-180h160v-160H180v160Zm440 0h160v-160H620v160Z\"/>\n",
              "  </svg>\n",
              "    </button>\n",
              "\n",
              "  <style>\n",
              "    .colab-df-container {\n",
              "      display:flex;\n",
              "      gap: 12px;\n",
              "    }\n",
              "\n",
              "    .colab-df-convert {\n",
              "      background-color: #E8F0FE;\n",
              "      border: none;\n",
              "      border-radius: 50%;\n",
              "      cursor: pointer;\n",
              "      display: none;\n",
              "      fill: #1967D2;\n",
              "      height: 32px;\n",
              "      padding: 0 0 0 0;\n",
              "      width: 32px;\n",
              "    }\n",
              "\n",
              "    .colab-df-convert:hover {\n",
              "      background-color: #E2EBFA;\n",
              "      box-shadow: 0px 1px 2px rgba(60, 64, 67, 0.3), 0px 1px 3px 1px rgba(60, 64, 67, 0.15);\n",
              "      fill: #174EA6;\n",
              "    }\n",
              "\n",
              "    .colab-df-buttons div {\n",
              "      margin-bottom: 4px;\n",
              "    }\n",
              "\n",
              "    [theme=dark] .colab-df-convert {\n",
              "      background-color: #3B4455;\n",
              "      fill: #D2E3FC;\n",
              "    }\n",
              "\n",
              "    [theme=dark] .colab-df-convert:hover {\n",
              "      background-color: #434B5C;\n",
              "      box-shadow: 0px 1px 3px 1px rgba(0, 0, 0, 0.15);\n",
              "      filter: drop-shadow(0px 1px 2px rgba(0, 0, 0, 0.3));\n",
              "      fill: #FFFFFF;\n",
              "    }\n",
              "  </style>\n",
              "\n",
              "    <script>\n",
              "      const buttonEl =\n",
              "        document.querySelector('#df-6cbcde53-d879-4b09-bb76-b700c7251c5d button.colab-df-convert');\n",
              "      buttonEl.style.display =\n",
              "        google.colab.kernel.accessAllowed ? 'block' : 'none';\n",
              "\n",
              "      async function convertToInteractive(key) {\n",
              "        const element = document.querySelector('#df-6cbcde53-d879-4b09-bb76-b700c7251c5d');\n",
              "        const dataTable =\n",
              "          await google.colab.kernel.invokeFunction('convertToInteractive',\n",
              "                                                    [key], {});\n",
              "        if (!dataTable) return;\n",
              "\n",
              "        const docLinkHtml = 'Like what you see? Visit the ' +\n",
              "          '<a target=\"_blank\" href=https://colab.research.google.com/notebooks/data_table.ipynb>data table notebook</a>'\n",
              "          + ' to learn more about interactive tables.';\n",
              "        element.innerHTML = '';\n",
              "        dataTable['output_type'] = 'display_data';\n",
              "        await google.colab.output.renderOutput(dataTable, element);\n",
              "        const docLink = document.createElement('div');\n",
              "        docLink.innerHTML = docLinkHtml;\n",
              "        element.appendChild(docLink);\n",
              "      }\n",
              "    </script>\n",
              "  </div>\n",
              "\n",
              "\n",
              "    <div id=\"df-5dd500ed-1400-401c-8438-b0c761dfc7bc\">\n",
              "      <button class=\"colab-df-quickchart\" onclick=\"quickchart('df-5dd500ed-1400-401c-8438-b0c761dfc7bc')\"\n",
              "                title=\"Suggest charts\"\n",
              "                style=\"display:none;\">\n",
              "\n",
              "<svg xmlns=\"http://www.w3.org/2000/svg\" height=\"24px\"viewBox=\"0 0 24 24\"\n",
              "     width=\"24px\">\n",
              "    <g>\n",
              "        <path d=\"M19 3H5c-1.1 0-2 .9-2 2v14c0 1.1.9 2 2 2h14c1.1 0 2-.9 2-2V5c0-1.1-.9-2-2-2zM9 17H7v-7h2v7zm4 0h-2V7h2v10zm4 0h-2v-4h2v4z\"/>\n",
              "    </g>\n",
              "</svg>\n",
              "      </button>\n",
              "\n",
              "<style>\n",
              "  .colab-df-quickchart {\n",
              "      --bg-color: #E8F0FE;\n",
              "      --fill-color: #1967D2;\n",
              "      --hover-bg-color: #E2EBFA;\n",
              "      --hover-fill-color: #174EA6;\n",
              "      --disabled-fill-color: #AAA;\n",
              "      --disabled-bg-color: #DDD;\n",
              "  }\n",
              "\n",
              "  [theme=dark] .colab-df-quickchart {\n",
              "      --bg-color: #3B4455;\n",
              "      --fill-color: #D2E3FC;\n",
              "      --hover-bg-color: #434B5C;\n",
              "      --hover-fill-color: #FFFFFF;\n",
              "      --disabled-bg-color: #3B4455;\n",
              "      --disabled-fill-color: #666;\n",
              "  }\n",
              "\n",
              "  .colab-df-quickchart {\n",
              "    background-color: var(--bg-color);\n",
              "    border: none;\n",
              "    border-radius: 50%;\n",
              "    cursor: pointer;\n",
              "    display: none;\n",
              "    fill: var(--fill-color);\n",
              "    height: 32px;\n",
              "    padding: 0;\n",
              "    width: 32px;\n",
              "  }\n",
              "\n",
              "  .colab-df-quickchart:hover {\n",
              "    background-color: var(--hover-bg-color);\n",
              "    box-shadow: 0 1px 2px rgba(60, 64, 67, 0.3), 0 1px 3px 1px rgba(60, 64, 67, 0.15);\n",
              "    fill: var(--button-hover-fill-color);\n",
              "  }\n",
              "\n",
              "  .colab-df-quickchart-complete:disabled,\n",
              "  .colab-df-quickchart-complete:disabled:hover {\n",
              "    background-color: var(--disabled-bg-color);\n",
              "    fill: var(--disabled-fill-color);\n",
              "    box-shadow: none;\n",
              "  }\n",
              "\n",
              "  .colab-df-spinner {\n",
              "    border: 2px solid var(--fill-color);\n",
              "    border-color: transparent;\n",
              "    border-bottom-color: var(--fill-color);\n",
              "    animation:\n",
              "      spin 1s steps(1) infinite;\n",
              "  }\n",
              "\n",
              "  @keyframes spin {\n",
              "    0% {\n",
              "      border-color: transparent;\n",
              "      border-bottom-color: var(--fill-color);\n",
              "      border-left-color: var(--fill-color);\n",
              "    }\n",
              "    20% {\n",
              "      border-color: transparent;\n",
              "      border-left-color: var(--fill-color);\n",
              "      border-top-color: var(--fill-color);\n",
              "    }\n",
              "    30% {\n",
              "      border-color: transparent;\n",
              "      border-left-color: var(--fill-color);\n",
              "      border-top-color: var(--fill-color);\n",
              "      border-right-color: var(--fill-color);\n",
              "    }\n",
              "    40% {\n",
              "      border-color: transparent;\n",
              "      border-right-color: var(--fill-color);\n",
              "      border-top-color: var(--fill-color);\n",
              "    }\n",
              "    60% {\n",
              "      border-color: transparent;\n",
              "      border-right-color: var(--fill-color);\n",
              "    }\n",
              "    80% {\n",
              "      border-color: transparent;\n",
              "      border-right-color: var(--fill-color);\n",
              "      border-bottom-color: var(--fill-color);\n",
              "    }\n",
              "    90% {\n",
              "      border-color: transparent;\n",
              "      border-bottom-color: var(--fill-color);\n",
              "    }\n",
              "  }\n",
              "</style>\n",
              "\n",
              "      <script>\n",
              "        async function quickchart(key) {\n",
              "          const quickchartButtonEl =\n",
              "            document.querySelector('#' + key + ' button');\n",
              "          quickchartButtonEl.disabled = true;  // To prevent multiple clicks.\n",
              "          quickchartButtonEl.classList.add('colab-df-spinner');\n",
              "          try {\n",
              "            const charts = await google.colab.kernel.invokeFunction(\n",
              "                'suggestCharts', [key], {});\n",
              "          } catch (error) {\n",
              "            console.error('Error during call to suggestCharts:', error);\n",
              "          }\n",
              "          quickchartButtonEl.classList.remove('colab-df-spinner');\n",
              "          quickchartButtonEl.classList.add('colab-df-quickchart-complete');\n",
              "        }\n",
              "        (() => {\n",
              "          let quickchartButtonEl =\n",
              "            document.querySelector('#df-5dd500ed-1400-401c-8438-b0c761dfc7bc button');\n",
              "          quickchartButtonEl.style.display =\n",
              "            google.colab.kernel.accessAllowed ? 'block' : 'none';\n",
              "        })();\n",
              "      </script>\n",
              "    </div>\n",
              "    </div>\n",
              "  </div>\n"
            ],
            "application/vnd.google.colaboratory.intrinsic+json": {
              "type": "dataframe",
              "summary": "{\n  \"name\": \"portfolio ['Close']\",\n  \"rows\": 5,\n  \"fields\": [\n    {\n      \"column\": \"Ticker\",\n      \"properties\": {\n        \"dtype\": \"string\",\n        \"num_unique_values\": 5,\n        \"samples\": [\n          \"AMZN\",\n          \"NFLX\",\n          \"GOOG\"\n        ],\n        \"semantic_type\": \"\",\n        \"description\": \"\"\n      }\n    },\n    {\n      \"column\": \"AAPL\",\n      \"properties\": {\n        \"dtype\": \"number\",\n        \"std\": 0.3360874839302967,\n        \"min\": 0.1763537993324035,\n        \"max\": 1.0,\n        \"num_unique_values\": 5,\n        \"samples\": [\n          0.36174806475294385,\n          0.21228043365573582,\n          0.3216568671629189\n        ],\n        \"semantic_type\": \"\",\n        \"description\": \"\"\n      }\n    },\n    {\n      \"column\": \"AMZN\",\n      \"properties\": {\n        \"dtype\": \"number\",\n        \"std\": 0.2989817369245031,\n        \"min\": 0.25721840307293947,\n        \"max\": 1.0,\n        \"num_unique_values\": 5,\n        \"samples\": [\n          1.0,\n          0.25721840307293947,\n          0.3262564909009262\n        ],\n        \"semantic_type\": \"\",\n        \"description\": \"\"\n      }\n    },\n    {\n      \"column\": \"GOOG\",\n      \"properties\": {\n        \"dtype\": \"number\",\n        \"std\": 0.3503423446831178,\n        \"min\": 0.1231201253378086,\n        \"max\": 1.0,\n        \"num_unique_values\": 5,\n        \"samples\": [\n          0.3262564909009262,\n          0.1231201253378086,\n          1.0\n        ],\n        \"semantic_type\": \"\",\n        \"description\": \"\"\n      }\n    },\n    {\n      \"column\": \"META\",\n      \"properties\": {\n        \"dtype\": \"number\",\n        \"std\": 0.3507165418844422,\n        \"min\": 0.1763537993324035,\n        \"max\": 1.0,\n        \"num_unique_values\": 5,\n        \"samples\": [\n          0.49546671398594994,\n          0.22275681956411156,\n          0.19267355915281287\n        ],\n        \"semantic_type\": \"\",\n        \"description\": \"\"\n      }\n    },\n    {\n      \"column\": \"NFLX\",\n      \"properties\": {\n        \"dtype\": \"number\",\n        \"std\": 0.35947378541828234,\n        \"min\": 0.1231201253378086,\n        \"max\": 1.0,\n        \"num_unique_values\": 5,\n        \"samples\": [\n          0.25721840307293947,\n          1.0,\n          0.1231201253378086\n        ],\n        \"semantic_type\": \"\",\n        \"description\": \"\"\n      }\n    }\n  ]\n}"
            }
          },
          "metadata": {},
          "execution_count": 91
        }
      ]
    },
    {
      "cell_type": "code",
      "source": [
        "corrMatrix=portfolio['Close'].pct_change().corr()\n",
        "sns.heatmap(corrMatrix,annot=True)"
      ],
      "metadata": {
        "colab": {
          "base_uri": "https://localhost:8080/",
          "height": 472
        },
        "id": "c25b8-lmmNll",
        "outputId": "69edd547-3acc-437e-d919-a60faf629697"
      },
      "execution_count": 94,
      "outputs": [
        {
          "output_type": "execute_result",
          "data": {
            "text/plain": [
              "<Axes: xlabel='Ticker', ylabel='Ticker'>"
            ]
          },
          "metadata": {},
          "execution_count": 94
        },
        {
          "output_type": "display_data",
          "data": {
            "text/plain": [
              "<Figure size 640x480 with 2 Axes>"
            ],
            "image/png": "[encoded data removed]"
          },
          "metadata": {}
        }
      ]
    }
  ]
}